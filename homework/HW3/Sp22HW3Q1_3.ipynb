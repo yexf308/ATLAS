{
  "nbformat": 4,
  "nbformat_minor": 0,
  "metadata": {
    "colab": {
      "name": "Sp22HW3Q1-3.ipynb",
      "provenance": [],
      "collapsed_sections": [],
      "include_colab_link": true
    },
    "kernelspec": {
      "name": "python3",
      "display_name": "Python 3"
    },
    "language_info": {
      "name": "python"
    }
  },
  "cells": [
    {
      "cell_type": "markdown",
      "metadata": {
        "id": "view-in-github",
        "colab_type": "text"
      },
      "source": [
        "<a href=\"https://colab.research.google.com/github/yexf308/ATLAS/blob/main/homework/HW3/Sp22HW3Q1_3.ipynb\" target=\"_parent\"><img src=\"https://colab.research.google.com/assets/colab-badge.svg\" alt=\"Open In Colab\"/></a>"
      ]
    },
    {
      "cell_type": "markdown",
      "metadata": {
        "id": "fZLt4ASQhHNK"
      },
      "source": [
        "# Homework 3\n",
        "## Homework guideline\n",
        "- The deadline is Apr 5th 10:30am. Submission after the deadline will not be graded. \n",
        "\n",
        "- Submit your work(your reasoning and your code) as a SINGLE .ipynb document. Please rename the document as _HW1_YOURNAME.ipynb_ (for example, _HW1_FELIX.ipynb_). You are responsible for checking that you have correctly submitted the correct document. If your code cannot run, you may receive NO point. \n",
        "\n",
        "- Please justify all short answers with a brief explanation.\n",
        "\n",
        "- You only use the Python packages included in the following cell. You are not allowed to use other advanced package or modules unless you are permitted to. \n",
        "\n",
        "- In your final submission include the plots produced by the unedited code as presented below, as well as any additional plots produced after editing the code during the course of a problem. You may find it necessary to copy/paste relevant code into additional cells to accomplish this.\n",
        "\n",
        "- Feel free to use the lecture notes and other resources but work on your own!"
      ]
    },
    {
      "cell_type": "code",
      "metadata": {
        "colab": {
          "base_uri": "https://localhost:8080/"
        },
        "id": "IDJW4eOSwWFO",
        "outputId": "00a3f4a1-1454-4059-c87c-21cb0bfbed8e"
      },
      "source": [
        "%pylab inline \n",
        "import numpy.linalg as LA\n",
        "import pandas as pd\n"
      ],
      "execution_count": null,
      "outputs": [
        {
          "output_type": "stream",
          "name": "stdout",
          "text": [
            "Populating the interactive namespace from numpy and matplotlib\n"
          ]
        }
      ]
    },
    {
      "cell_type": "markdown",
      "source": [
        "<br>\n",
        "\n",
        "---\n",
        "\n",
        "\n",
        "# Q1: Numpy practice problem (10pt)\n",
        "### Q1.1 Replace values between 30 and 50 in the array $Z$ by value 0"
      ],
      "metadata": {
        "id": "BqW_96QlGZgi"
      }
    },
    {
      "cell_type": "code",
      "source": [
        "Z = np.random.randint(20,60,size=10)\n",
        "# insert your code here"
      ],
      "metadata": {
        "id": "m4EC14s8HLGL"
      },
      "execution_count": null,
      "outputs": []
    },
    {
      "cell_type": "markdown",
      "source": [
        "\n",
        "\n",
        "---\n",
        "\n",
        "\n",
        "### Q1.2 Compute the one-hot encodings (dummy binary variables for each unique value in the array). \n",
        "i.e., one-hot encoding for 2 in 4 dimension is $[0 ,1 , 0 ,0 ]$. \n"
      ],
      "metadata": {
        "id": "0ZbGRiUiI3TU"
      }
    },
    {
      "cell_type": "code",
      "source": [
        "Z = np.random.randint(1,4, size=6)\n",
        "# insert yout code here"
      ],
      "metadata": {
        "id": "i4WMReiLJowy"
      },
      "execution_count": null,
      "outputs": []
    },
    {
      "cell_type": "markdown",
      "metadata": {
        "id": "EsHtBV5txHPK"
      },
      "source": [
        "<br>\n",
        "\n",
        "---\n",
        "\n",
        "\n",
        "# Q2: K-means clustering (10pt)\n",
        "\n"
      ]
    },
    {
      "cell_type": "markdown",
      "metadata": {
        "id": "3-LbDVThzyjm"
      },
      "source": [
        "\n",
        "In K-means, we are given dataset $\\{\\mathbf{x}^{(1)}, \\dots,\\mathbf{x}^{(N)} \\}\\subset \\mathbb{R}^d$ and the number of clusters $K$, and we are trying to optimize the distortion value \n",
        "$$J = \\sum_{i=1}^N\\sum_{j=1}^K r_{ij}\\|\\mathbf{x}^{(i)}-\\mu_j\\|_2^2$$\n",
        "where $r_{ij}\\in \\{0,1\\}$ is an indicator variable \n",
        "$r_{ij}=1 \\text{ if and only if } \\mathbf{x}^{(i)}\\in \\mathcal{C}_{j}$. For each $i$, there is one and only one $j$ such that $r_{ij}=1$, i.e., the membership for $\\mathbf{x}^{(i)}$ is unique. \n",
        "\n",
        "\n",
        "\n",
        "\n",
        "###  Alternative optimization Steps \n",
        "\n",
        "Fix $\\{\\mu_j\\}$ and minimize over $\\{r_{ij}\\}$, **show** the solution for $r_{ij}$ is \n",
        "\n",
        "$$r_{ij} = \\begin{cases} 1 & \\text{if } j= \\text{arg}\\min_k \\|\\mathbf{x}^{(i)}-\\mu_k\\|_2^2 \\\\ 0 & \\text{Otherwise}\\end{cases}$$\n",
        "Please show your derivation. \n",
        "\n",
        "\n",
        "Fix $\\{r_{ij}\\}$ and minimize over $\\{\\mu_j\\}$, **show** the solution for $\\mu_j$ is  \n",
        "$$\\mu_j=\\frac{\\sum_i r_{ij}\\mathbf{x}^{(i)}}{\\sum_i r_{ij}}$$\n",
        "\n",
        "Please show your derivation. \n",
        "\n"
      ]
    },
    {
      "cell_type": "markdown",
      "metadata": {
        "id": "I2eZ0sx717m5"
      },
      "source": [
        "## **Your Answer**: "
      ]
    },
    {
      "cell_type": "markdown",
      "metadata": {
        "id": "RuOsSF32f9qP"
      },
      "source": [
        "<br>\n",
        "\n",
        "---\n",
        "\n",
        "\n",
        "# Q3: Gaussian Mixture Models (40pt)\n",
        "\n"
      ]
    },
    {
      "cell_type": "markdown",
      "metadata": {
        "id": "PvfRxhlBgVwZ"
      },
      "source": [
        "### 1. KL divergence (5pt)\n",
        "In class, we defined the **Kullback-Leibler divergence** (or **KL divergence** for short) between two probability distributions $q$ and $p$, \n",
        "$$ \\text{KL}(q||p)=\\sum_{z=1}^K q(z) \\log\\left( \\frac{q(z)}{p(z)}\\right)$$\n",
        "where $\\sum_{z=1}^K q(z)=1$ and $\\sum_{z=1}^K p(z)=1$. For simplicity, assume $p(z)>0$ for all $z$. \n",
        "\n",
        "Please show the following two key properties\n",
        "- $\\text{KL}(q||p)\\ge 0$ \n",
        "\n",
        "- $\\text{KL}(q||p)=0$ iff $p=q$. "
      ]
    },
    {
      "cell_type": "markdown",
      "metadata": {
        "id": "yt9xG58aiIJ8"
      },
      "source": [
        "# **Your Answer:**"
      ]
    },
    {
      "cell_type": "markdown",
      "metadata": {
        "id": "fhra9lRIiWWr"
      },
      "source": [
        "\n",
        "\n",
        "---\n",
        "\n",
        "\n",
        "### 2. Construct a function to calculate log likelihood (10pt)\n",
        "Say you have applied EM algorithm in the Gaussian Mixture model and have found the optimal parameter $\\theta^*=\\{\\pi_c^*, \\mu_c^*, \\Sigma_c^*\\}_{c=1}^K$. Construct a function to calculate the log likelihood $\\ell(\\theta)$\n",
        "\n"
      ]
    },
    {
      "cell_type": "code",
      "metadata": {
        "id": "4lSos5L6j2gS"
      },
      "source": [
        " #@title  Q3.2 \n",
        " # your code starts here\n",
        " def log_likelihood(X,K,Pi_opt,Mu_opt, Sigma_opt):\n",
        "   return\n",
        "    "
      ],
      "execution_count": null,
      "outputs": []
    },
    {
      "cell_type": "markdown",
      "metadata": {
        "id": "BlQK09X_91_v"
      },
      "source": [
        "\n",
        "\n",
        "---\n",
        "\n",
        "\n",
        "### 3. Construct a function to calculate Bayesian information criterion (BIC) (5pt)\n",
        "\n",
        "In Gaussian mixture models, one question is how to choose the number of the cluster $K$. This time we cannot simply use elbow method, instead we will use slightly more complicated criterion, Bayesian information criterion (BIC). \n",
        "\n",
        "The formula for BIC in Gaussian mixture models is \n",
        "$$\\text{BIC}(K) = ( K-1 + Kd+Kd(d+1)/2)\\log(N) -\\log(\\hat\\ell) $$\n",
        "\n",
        "where \n",
        "- $d$ is the dimension of observation $\\mathbf{x}$, \n",
        "\n",
        "- $N$ is the number of observation datapoint,\n",
        "\n",
        "- $\\hat\\ell$ is the maximized value of the likelihood function of the model, which is the likelihood at the optimal paramter, $\\ell(\\theta^*)$. \n",
        "\n",
        "Note models with lower BIC are generally preferred. \n",
        "\n",
        "Please construct a function to calculate the Bayesian information criterion. \n"
      ]
    },
    {
      "cell_type": "code",
      "metadata": {
        "id": "-DkU1rSnBm9y"
      },
      "source": [
        " #@title  Q3.3 \n",
        " # your code starts here\n",
        " def BIC(K,d,N,ell_hat):\n",
        "   return"
      ],
      "execution_count": null,
      "outputs": []
    },
    {
      "cell_type": "markdown",
      "metadata": {
        "id": "WWjU3mPKKOhM"
      },
      "source": [
        "\n",
        "\n",
        "---\n",
        "\n",
        "\n",
        "### 4. Testing with the synthetic dataset (20pt)\n",
        "Performing Gaussian mixture models over the loop for an increasing number of $K$ from 2 to 6. Note for each $K$, you should run your GMM several times with differnt random initial conditions, to make sure the parameter is not trapped in the local minimum. Plot BIC value vs. the number of the cluster $K$. From the plot, please comment what is the optimal $K$. \n",
        "\n",
        "(It is always a good habit to start your code for some special $K$, say $K=4$. Make sure your code produces the correct result first, then put it into the loop with different $K$. )"
      ]
    },
    {
      "cell_type": "code",
      "metadata": {
        "colab": {
          "base_uri": "https://localhost:8080/",
          "height": 314
        },
        "id": "TODUclswKknx",
        "outputId": "77b76036-3035-434c-963b-9e9ebf8527ba"
      },
      "source": [
        "from sklearn.datasets import make_blobs\n",
        "\n",
        "def plot_clusters(X, y=None, Mu_array=0):\n",
        "    fig, ax = plt.subplots(figsize=(6, 4))\n",
        "    plt.scatter(X[:, 0], X[:, 1], c=y, s=1)\n",
        "    if sum(Mu_array) != 0:\n",
        "        plt.scatter(Mu_array[:,0],Mu_array[:,1],marker=\"x\", color=\"black\", linewidth=2)\n",
        "        \n",
        "    plt.xlabel(\"$x_1$\", fontsize=14)\n",
        "    plt.ylabel(\"$x_2$\", fontsize=14, rotation=0)\n",
        "    plt.grid()\n",
        "    plt.tight_layout()  \n",
        "    plt.show()     \n",
        "\n",
        "\n",
        "if 1:\n",
        "    blob_centers = np.array(\n",
        "        [[ -0.2,  2.75],\n",
        "         [-1.8 ,  2.3],\n",
        "         [-2.8,  1.8],\n",
        "         [-2.8,  2.8]])\n",
        "    blob_std = np.array([0.3, 0.3, 0.1, 0.1])\n",
        "    X, y = make_blobs(n_samples=2000, centers=blob_centers,\n",
        "                      cluster_std=blob_std, random_state=7) \n",
        "\n",
        "figure()\n",
        "plot_clusters(X)       "
      ],
      "execution_count": null,
      "outputs": [
        {
          "output_type": "display_data",
          "data": {
            "text/plain": [
              "<Figure size 432x288 with 0 Axes>"
            ]
          },
          "metadata": {}
        },
        {
          "output_type": "display_data",
          "data": {
            "image/png": "[encoded data removed]",
            "text/plain": [
              "<Figure size 432x288 with 1 Axes>"
            ]
          },
          "metadata": {
            "needs_background": "light"
          }
        }
      ]
    },
    {
      "cell_type": "code",
      "metadata": {
        "id": "KDjwXJKdOpW8"
      },
      "source": [
        " #@title  Q3.4 \n",
        " # your code starts here"
      ],
      "execution_count": null,
      "outputs": []
    },
    {
      "cell_type": "markdown",
      "metadata": {
        "id": "eQg6-9kGPdM4"
      },
      "source": [
        "# **Your Answer:**"
      ]
    }
  ]
}